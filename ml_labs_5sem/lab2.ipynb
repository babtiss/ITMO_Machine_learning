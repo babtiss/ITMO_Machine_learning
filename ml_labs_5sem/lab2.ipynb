{
  "nbformat": 4,
  "nbformat_minor": 0,
  "metadata": {
    "hide_input": false,
    "kernelspec": {
      "display_name": "Python 3",
      "language": "python",
      "name": "python3"
    },
    "language_info": {
      "codemirror_mode": {
        "name": "ipython",
        "version": 3
      },
      "file_extension": ".py",
      "mimetype": "text/x-python",
      "name": "python",
      "nbconvert_exporter": "python",
      "pygments_lexer": "ipython3",
      "version": "3.7.1"
    },
    "toc": {
      "base_numbering": 1,
      "nav_menu": {},
      "number_sections": true,
      "sideBar": true,
      "skip_h1_title": false,
      "title_cell": "Table of Contents",
      "title_sidebar": "Contents",
      "toc_cell": true,
      "toc_position": {},
      "toc_section_display": true,
      "toc_window_display": false
    },
    "varInspector": {
      "cols": {
        "lenName": 16,
        "lenType": 16,
        "lenVar": 40
      },
      "kernels_config": {
        "python": {
          "delete_cmd_postfix": "",
          "delete_cmd_prefix": "del ",
          "library": "var_list.py",
          "varRefreshCmd": "print(var_dic_list())"
        },
        "r": {
          "delete_cmd_postfix": ") ",
          "delete_cmd_prefix": "rm(",
          "library": "var_list.r",
          "varRefreshCmd": "cat(var_dic_list()) "
        }
      },
      "types_to_exclude": [
        "module",
        "function",
        "builtin_function_or_method",
        "instance",
        "_Feature"
      ],
      "window_display": false
    },
    "colab": {
      "provenance": [],
      "toc_visible": true
    }
  },
  "cells": [
    {
      "cell_type": "code",
      "metadata": {
        "ExecuteTime": {
          "end_time": "2020-04-23T10:16:05.965275Z",
          "start_time": "2020-04-23T10:16:05.312704Z"
        },
        "id": "bZ7J0si68JdT"
      },
      "source": [
        "import pandas as pd\n",
        "import numpy as np"
      ],
      "execution_count": 1,
      "outputs": []
    },
    {
      "cell_type": "markdown",
      "metadata": {
        "id": "xjvL0IIG8Jd0"
      },
      "source": [
        "## Задание 0\n"
      ]
    },
    {
      "cell_type": "markdown",
      "metadata": {
        "id": "yaSxXHvxO0qo"
      },
      "source": [
        "Для всех  заданий будем использовать обезличенные транзакционные банковские данные. Для этого считайте в переменные **tr_mcc_codes, tr_types, transactions и gender_train** из одноимённых таблиц из папки [data](https://drive.google.com/drive/folders/1YAMe7MiTxA-RSSd8Ex2p-L0Dspe6Gs4L). \n",
        "\n",
        "Для таблицы transactions используйте только первые n=1000000 строк. При чтении файлов обратите внимание на разделители внутри каждого из файлов - они могут различаться!"
      ]
    },
    {
      "cell_type": "code",
      "source": [
        "from google.colab import drive\n",
        "drive.mount('/content/drive')"
      ],
      "metadata": {
        "colab": {
          "base_uri": "https://localhost:8080/"
        },
        "id": "eI_5WDAkscgY",
        "outputId": "153a0f71-0db7-4732-e2c7-6e57d47c670d"
      },
      "execution_count": 2,
      "outputs": [
        {
          "output_type": "stream",
          "name": "stdout",
          "text": [
            "Mounted at /content/drive\n"
          ]
        }
      ]
    },
    {
      "cell_type": "code",
      "source": [
        "df_transactions = pd.read_csv(\"/content/drive/MyDrive/ITMO_ML/Data/transactions.csv\", nrows=1000000, sep=\",\")\n",
        "df_tr_types = pd.read_csv(\"/content/drive/MyDrive/ITMO_ML/Data/tr_types.csv\", sep=\";\")\n",
        "df_tr_mcc_codes = pd.read_csv(\"/content/drive/MyDrive/ITMO_ML/Data/tr_mcc_codes.csv\", sep=\";\")\n",
        "df_gender_train = pd.read_csv(\"/content/drive/MyDrive/ITMO_ML/Data/gender_train.csv\", sep=\",\")"
      ],
      "metadata": {
        "id": "UmYUOV-0tI7O"
      },
      "execution_count": 3,
      "outputs": []
    },
    {
      "cell_type": "markdown",
      "metadata": {
        "id": "oP3lX9xC8Jd8"
      },
      "source": [
        "###  Описание данных\n",
        "#### Таблица ```transactions.csv```\n",
        "##### Описание\n",
        "Таблица содержит историю транзакций клиентов банка за один год и три месяца.\n",
        "\n",
        "##### Формат данных\n",
        "\n",
        "```\n",
        "customer_id,tr_datetime,mcc_code,tr_type,amount,term_id\n",
        "111111,15 01:40:52,1111,1000,-5224,111111\n",
        "111112,15 15:18:32,3333,2000,-100,11122233\n",
        "...\n",
        "```\n",
        "##### Описание полей\n",
        "\n",
        " - ```customer_id``` — идентификатор клиента;\n",
        " - ```tr_datetime``` — день и время совершения транзакции (дни нумеруются с начала данных);\n",
        " - ```mcc_code``` — mcc-код транзакции;\n",
        " - ```tr_type``` — тип транзакции;\n",
        " - ```amount``` — сумма транзакции в условных единицах со знаком; ```+``` — начисление средств клиенту (приходная транзакция), ```-``` — списание средств (расходная транзакция);\n",
        " - ```term_id``` — идентификатор терминала;\n",
        "\n",
        "\n",
        "#### Таблица ```gender_train.csv```\n",
        "\n",
        "##### Описание\n",
        "Данная таблица содержит информацию по полу для части клиентов, для которых он известен. Для остальных клиентов пол неизвестен.\n",
        "\n",
        "##### Формат данных\n",
        "```\n",
        "customer_id,gender\n",
        "111111,0\n",
        "111112,1\n",
        "...\n",
        "```\n",
        "\n",
        "##### Описание полей\n",
        " - ```customer_id``` — идентификатор клиента;\n",
        " - ```gender``` — пол клиента;\n",
        "\n",
        "### Таблица ```tr_mcc_codes.csv```\n",
        "\n",
        "##### Описание\n",
        "Данная таблица содержит описание mcc-кодов транзакций.\n",
        "\n",
        "##### Формат данных\n",
        "```\n",
        "mcc_code;mcc_description\n",
        "1000;словесное описание mcc-кода 1000\n",
        "2000;словесное описание mcc-кода 2000\n",
        "...\n",
        "```\n",
        "\n",
        "##### Описание полей\n",
        " - ```mcc_code``` – mcc-код транзакции;\n",
        " - ```mcc_description``` — описание mcc-кода транзакции.\n",
        "\n",
        "#### Таблица ```tr_types.csv```\n",
        "\n",
        "##### Описание\n",
        "Данная таблица содержит описание типов транзакций.\n",
        "\n",
        "##### Формат данных\n",
        "```\n",
        "tr_type;tr_description\n",
        "1000;словесное описание типа транзакции 1000\n",
        "2000;словесное описание типа транзакции 2000\n",
        "...\n",
        "```\n",
        "\n",
        "##### Описание полей\n",
        " - ```tr_type``` – тип транзакции;\n",
        " - ```tr_description``` — описание типа транзакции;"
      ]
    },
    {
      "cell_type": "markdown",
      "metadata": {
        "id": "04CYsBKz8JeB"
      },
      "source": [
        "\n",
        "Задания 1-4 делаются без использования merge!\n",
        "\n",
        "## Задание 1\n",
        "\n"
      ]
    },
    {
      "cell_type": "markdown",
      "metadata": {
        "id": "1hcrfwsYN_Yz"
      },
      "source": [
        "1. Для столбца tr_type датафрейма transactions выберите произвольные 1000 строк с помощью метода sample\n",
        "2. В полученной на предыдущем этапе подвыборке найдите долю транзакций (стобец tr_description в датасете tr_types), в которой содержится подстрока 'POS' или 'ATM'\n"
      ]
    },
    {
      "cell_type": "code",
      "source": [
        "count_tr_types = 1000\n",
        "tr_type_column_sample = df_transactions[\"tr_type\"].sample(count_tr_types)\n",
        "\n",
        "substring_1 = df_tr_types[\"tr_description\"].str.contains(\"АТМ\")\n",
        "substring_2 = df_tr_types[\"tr_description\"].str.contains(\"POS\")\n",
        "match_substring = substring_1 | substring_2\n",
        "types_after_match = df_tr_types[\"tr_type\"][match_substring]\n",
        "count_true = df_tr_types.isin(types_after_match).value_counts()[True]\n",
        "print(count_true / count_tr_types)"
      ],
      "metadata": {
        "colab": {
          "base_uri": "https://localhost:8080/"
        },
        "id": "pFLMJuv3zNxr",
        "outputId": "8a73c9ac-a617-4c72-b50e-9a524440f274"
      },
      "execution_count": 4,
      "outputs": [
        {
          "output_type": "stream",
          "name": "stdout",
          "text": [
            "tr_description\n",
            "False    0.062\n",
            "dtype: float64\n"
          ]
        }
      ]
    },
    {
      "cell_type": "markdown",
      "metadata": {
        "id": "fiZBDIZt8JeS"
      },
      "source": [
        "## Задание 2 \n"
      ]
    },
    {
      "cell_type": "markdown",
      "metadata": {
        "id": "FFKeBUThOCrz"
      },
      "source": [
        "1. Для столбца tr_type датафрейма transactions посчитайте частоту встречаемости всех типов транзакций tr_type в transactions.\n",
        "2. Выведите топ-10 транзакций по частоте встречаемости (вывести для них tr_description тоже)."
      ]
    },
    {
      "cell_type": "code",
      "source": [
        "occurrence_of_types = df_transactions[\"tr_type\"].value_counts()\n",
        "\n",
        "top_types_from_occerrence = df_tr_types[df_tr_types[\"tr_type\"].isin(occurrence_of_types[0:10].index)]\n",
        "top_types_from_occerrence"
      ],
      "metadata": {
        "colab": {
          "base_uri": "https://localhost:8080/",
          "height": 363
        },
        "id": "pdlgJAYI8uxv",
        "outputId": "9da15904-3bde-4f9b-fd1d-4c6a2996c1fc"
      },
      "execution_count": 5,
      "outputs": [
        {
          "output_type": "execute_result",
          "data": {
            "text/plain": [
              "     tr_type                                     tr_description\n",
              "39      7010       Взнос наличных через АТМ (в своем тер.банке)\n",
              "47      7030  Перевод на карту (с карты) через АТМ (в предел...\n",
              "59      7070  Перевод на карту (с карты) через Мобильный бан...\n",
              "60      7071  Перевод на карту (с карты) через Мобильный бан...\n",
              "98      1010                              Покупка. POS ТУ СБ РФ\n",
              "99      1030                     Оплата услуги. Банкоматы СБ РФ\n",
              "100     1100                                Покупка. ТУ  Россия\n",
              "101     1110                             Покупка. POS ТУ Россия\n",
              "106     2010              Выдача наличных в АТМ Сбербанк России\n",
              "129     2370  Списание с карты на карту по операции <перевод..."
            ],
            "text/html": [
              "\n",
              "  <div id=\"df-94b0cd6e-7898-473d-9dc3-06536144df0f\">\n",
              "    <div class=\"colab-df-container\">\n",
              "      <div>\n",
              "<style scoped>\n",
              "    .dataframe tbody tr th:only-of-type {\n",
              "        vertical-align: middle;\n",
              "    }\n",
              "\n",
              "    .dataframe tbody tr th {\n",
              "        vertical-align: top;\n",
              "    }\n",
              "\n",
              "    .dataframe thead th {\n",
              "        text-align: right;\n",
              "    }\n",
              "</style>\n",
              "<table border=\"1\" class=\"dataframe\">\n",
              "  <thead>\n",
              "    <tr style=\"text-align: right;\">\n",
              "      <th></th>\n",
              "      <th>tr_type</th>\n",
              "      <th>tr_description</th>\n",
              "    </tr>\n",
              "  </thead>\n",
              "  <tbody>\n",
              "    <tr>\n",
              "      <th>39</th>\n",
              "      <td>7010</td>\n",
              "      <td>Взнос наличных через АТМ (в своем тер.банке)</td>\n",
              "    </tr>\n",
              "    <tr>\n",
              "      <th>47</th>\n",
              "      <td>7030</td>\n",
              "      <td>Перевод на карту (с карты) через АТМ (в предел...</td>\n",
              "    </tr>\n",
              "    <tr>\n",
              "      <th>59</th>\n",
              "      <td>7070</td>\n",
              "      <td>Перевод на карту (с карты) через Мобильный бан...</td>\n",
              "    </tr>\n",
              "    <tr>\n",
              "      <th>60</th>\n",
              "      <td>7071</td>\n",
              "      <td>Перевод на карту (с карты) через Мобильный бан...</td>\n",
              "    </tr>\n",
              "    <tr>\n",
              "      <th>98</th>\n",
              "      <td>1010</td>\n",
              "      <td>Покупка. POS ТУ СБ РФ</td>\n",
              "    </tr>\n",
              "    <tr>\n",
              "      <th>99</th>\n",
              "      <td>1030</td>\n",
              "      <td>Оплата услуги. Банкоматы СБ РФ</td>\n",
              "    </tr>\n",
              "    <tr>\n",
              "      <th>100</th>\n",
              "      <td>1100</td>\n",
              "      <td>Покупка. ТУ  Россия</td>\n",
              "    </tr>\n",
              "    <tr>\n",
              "      <th>101</th>\n",
              "      <td>1110</td>\n",
              "      <td>Покупка. POS ТУ Россия</td>\n",
              "    </tr>\n",
              "    <tr>\n",
              "      <th>106</th>\n",
              "      <td>2010</td>\n",
              "      <td>Выдача наличных в АТМ Сбербанк России</td>\n",
              "    </tr>\n",
              "    <tr>\n",
              "      <th>129</th>\n",
              "      <td>2370</td>\n",
              "      <td>Списание с карты на карту по операции &lt;перевод...</td>\n",
              "    </tr>\n",
              "  </tbody>\n",
              "</table>\n",
              "</div>\n",
              "      <button class=\"colab-df-convert\" onclick=\"convertToInteractive('df-94b0cd6e-7898-473d-9dc3-06536144df0f')\"\n",
              "              title=\"Convert this dataframe to an interactive table.\"\n",
              "              style=\"display:none;\">\n",
              "        \n",
              "  <svg xmlns=\"http://www.w3.org/2000/svg\" height=\"24px\"viewBox=\"0 0 24 24\"\n",
              "       width=\"24px\">\n",
              "    <path d=\"M0 0h24v24H0V0z\" fill=\"none\"/>\n",
              "    <path d=\"M18.56 5.44l.94 2.06.94-2.06 2.06-.94-2.06-.94-.94-2.06-.94 2.06-2.06.94zm-11 1L8.5 8.5l.94-2.06 2.06-.94-2.06-.94L8.5 2.5l-.94 2.06-2.06.94zm10 10l.94 2.06.94-2.06 2.06-.94-2.06-.94-.94-2.06-.94 2.06-2.06.94z\"/><path d=\"M17.41 7.96l-1.37-1.37c-.4-.4-.92-.59-1.43-.59-.52 0-1.04.2-1.43.59L10.3 9.45l-7.72 7.72c-.78.78-.78 2.05 0 2.83L4 21.41c.39.39.9.59 1.41.59.51 0 1.02-.2 1.41-.59l7.78-7.78 2.81-2.81c.8-.78.8-2.07 0-2.86zM5.41 20L4 18.59l7.72-7.72 1.47 1.35L5.41 20z\"/>\n",
              "  </svg>\n",
              "      </button>\n",
              "      \n",
              "  <style>\n",
              "    .colab-df-container {\n",
              "      display:flex;\n",
              "      flex-wrap:wrap;\n",
              "      gap: 12px;\n",
              "    }\n",
              "\n",
              "    .colab-df-convert {\n",
              "      background-color: #E8F0FE;\n",
              "      border: none;\n",
              "      border-radius: 50%;\n",
              "      cursor: pointer;\n",
              "      display: none;\n",
              "      fill: #1967D2;\n",
              "      height: 32px;\n",
              "      padding: 0 0 0 0;\n",
              "      width: 32px;\n",
              "    }\n",
              "\n",
              "    .colab-df-convert:hover {\n",
              "      background-color: #E2EBFA;\n",
              "      box-shadow: 0px 1px 2px rgba(60, 64, 67, 0.3), 0px 1px 3px 1px rgba(60, 64, 67, 0.15);\n",
              "      fill: #174EA6;\n",
              "    }\n",
              "\n",
              "    [theme=dark] .colab-df-convert {\n",
              "      background-color: #3B4455;\n",
              "      fill: #D2E3FC;\n",
              "    }\n",
              "\n",
              "    [theme=dark] .colab-df-convert:hover {\n",
              "      background-color: #434B5C;\n",
              "      box-shadow: 0px 1px 3px 1px rgba(0, 0, 0, 0.15);\n",
              "      filter: drop-shadow(0px 1px 2px rgba(0, 0, 0, 0.3));\n",
              "      fill: #FFFFFF;\n",
              "    }\n",
              "  </style>\n",
              "\n",
              "      <script>\n",
              "        const buttonEl =\n",
              "          document.querySelector('#df-94b0cd6e-7898-473d-9dc3-06536144df0f button.colab-df-convert');\n",
              "        buttonEl.style.display =\n",
              "          google.colab.kernel.accessAllowed ? 'block' : 'none';\n",
              "\n",
              "        async function convertToInteractive(key) {\n",
              "          const element = document.querySelector('#df-94b0cd6e-7898-473d-9dc3-06536144df0f');\n",
              "          const dataTable =\n",
              "            await google.colab.kernel.invokeFunction('convertToInteractive',\n",
              "                                                     [key], {});\n",
              "          if (!dataTable) return;\n",
              "\n",
              "          const docLinkHtml = 'Like what you see? Visit the ' +\n",
              "            '<a target=\"_blank\" href=https://colab.research.google.com/notebooks/data_table.ipynb>data table notebook</a>'\n",
              "            + ' to learn more about interactive tables.';\n",
              "          element.innerHTML = '';\n",
              "          dataTable['output_type'] = 'display_data';\n",
              "          await google.colab.output.renderOutput(dataTable, element);\n",
              "          const docLink = document.createElement('div');\n",
              "          docLink.innerHTML = docLinkHtml;\n",
              "          element.appendChild(docLink);\n",
              "        }\n",
              "      </script>\n",
              "    </div>\n",
              "  </div>\n",
              "  "
            ]
          },
          "metadata": {},
          "execution_count": 5
        }
      ]
    },
    {
      "cell_type": "markdown",
      "metadata": {
        "id": "mktm_JeA8JeX"
      },
      "source": [
        "## Задание 3\n",
        "1. В датафрейме transactions найдите клиента с максимальной суммой приходов на карту\n",
        "2. В датафрейме transactions найдите клиента с максимальной суммой расходов по карте\n",
        "3. Найдите модуль разницы для этих клиентов между суммой расходов и суммой приходов"
      ]
    },
    {
      "cell_type": "code",
      "source": [
        "positive_transactions = df_transactions[df_transactions[\"amount\"] > 0]\n",
        "group_customers_by_amount = positive_transactions.groupby(\"customer_id\").sum()\n",
        "sorted_table_clients = group_customers_by_amount.sort_values(\"amount\", ascending=False)\n",
        "client_with_max_added_sum = sorted_table_clients.iloc[0]\n",
        "client_with_max_added_sum"
      ],
      "metadata": {
        "colab": {
          "base_uri": "https://localhost:8080/"
        },
        "id": "mwxcMLu4BKRF",
        "outputId": "457fadd8-6e1a-47ff-f4e4-008c10b6c76d"
      },
      "execution_count": 6,
      "outputs": [
        {
          "output_type": "execute_result",
          "data": {
            "text/plain": [
              "mcc_code    5.307003e+08\n",
              "tr_type     6.236914e+08\n",
              "amount      1.248115e+09\n",
              "Name: 70780820, dtype: float64"
            ]
          },
          "metadata": {},
          "execution_count": 6
        }
      ]
    },
    {
      "cell_type": "code",
      "source": [
        "negative_transactions = df_transactions[df_transactions[\"amount\"] < 0]\n",
        "group_customers_by_amount_2 = negative_transactions.groupby(\"customer_id\").sum()\n",
        "sorted_table_clients_2 = group_customers_by_amount_2.sort_values(\"amount\", ascending=True)\n",
        "client_with_max_subtracted_sum = sorted_table_clients_2.iloc[0]\n",
        "client_with_max_subtracted_sum"
      ],
      "metadata": {
        "colab": {
          "base_uri": "https://localhost:8080/"
        },
        "id": "pd-qO49vG9kQ",
        "outputId": "e9584db7-ed72-413b-d29e-7a0f55df5a79"
      },
      "execution_count": 10,
      "outputs": [
        {
          "output_type": "execute_result",
          "data": {
            "text/plain": [
              "mcc_code    2.686385e+06\n",
              "tr_type     1.093690e+06\n",
              "amount     -1.249952e+09\n",
              "Name: 70780820, dtype: float64"
            ]
          },
          "metadata": {},
          "execution_count": 10
        }
      ]
    },
    {
      "cell_type": "code",
      "source": [
        "abs(client_with_max_added_sum[\"amount\"] - abs(client_with_max_subtracted_sum[\"amount\"]))"
      ],
      "metadata": {
        "colab": {
          "base_uri": "https://localhost:8080/"
        },
        "id": "3mWG3JEnHM4C",
        "outputId": "f1962a50-a030-4916-abbb-cd34cf07cd54"
      },
      "execution_count": 11,
      "outputs": [
        {
          "output_type": "execute_result",
          "data": {
            "text/plain": [
              "1837317.980000019"
            ]
          },
          "metadata": {},
          "execution_count": 11
        }
      ]
    },
    {
      "cell_type": "markdown",
      "source": [],
      "metadata": {
        "id": "duTxjZuBCg1R"
      }
    },
    {
      "cell_type": "markdown",
      "metadata": {
        "id": "BYrJ5b_E8Jee"
      },
      "source": [
        "## Задание 4\n",
        "1. Найдите среднее арифметическое и медиану по amount по всем типам транзакций из топ 10 из задания 2\n",
        "1. Найдите среднее арифметическое и медиану по amount по всем типам транзакций для клиентов из задания 3"
      ]
    },
    {
      "cell_type": "code",
      "source": [
        "top_transactions_from_occerrence_types = df_transactions[df_transactions[\"tr_type\"].isin(occurrence_of_types[:10].index)]\n",
        "\n",
        "mean = top_transactions_from_occerrence_types.groupby(\"tr_type\")[\"amount\"].mean()\n",
        "median = top_transactions_from_occerrence_types.groupby(\"tr_type\")[\"amount\"].median()\n",
        "pd.concat([mean, median], keys=[\"mean\", \"median\"], axis=1, levels=True)"
      ],
      "metadata": {
        "colab": {
          "base_uri": "https://localhost:8080/",
          "height": 394
        },
        "id": "A7Ibfv4jI3sQ",
        "outputId": "a3e4a4ad-eaf0-4d38-ecda-e38b2dde1bed"
      },
      "execution_count": 12,
      "outputs": [
        {
          "output_type": "execute_result",
          "data": {
            "text/plain": [
              "                  mean     median\n",
              "tr_type                          \n",
              "1010     -19784.748640   -7411.52\n",
              "1030      -5320.980222   -2245.92\n",
              "1100     -44061.827262  -10188.26\n",
              "1110     -32119.330371  -11207.57\n",
              "2010    -136077.629325  -44918.32\n",
              "2370    -205418.249032  -44918.32\n",
              "7010     276391.789596  112295.79\n",
              "7030      86104.332909   13951.52\n",
              "7070      65569.831700   11319.42\n",
              "7071      66806.826623    3593.47"
            ],
            "text/html": [
              "\n",
              "  <div id=\"df-0f41fb52-2fde-49d5-bc9c-7a60aa4524e1\">\n",
              "    <div class=\"colab-df-container\">\n",
              "      <div>\n",
              "<style scoped>\n",
              "    .dataframe tbody tr th:only-of-type {\n",
              "        vertical-align: middle;\n",
              "    }\n",
              "\n",
              "    .dataframe tbody tr th {\n",
              "        vertical-align: top;\n",
              "    }\n",
              "\n",
              "    .dataframe thead th {\n",
              "        text-align: right;\n",
              "    }\n",
              "</style>\n",
              "<table border=\"1\" class=\"dataframe\">\n",
              "  <thead>\n",
              "    <tr style=\"text-align: right;\">\n",
              "      <th></th>\n",
              "      <th>mean</th>\n",
              "      <th>median</th>\n",
              "    </tr>\n",
              "    <tr>\n",
              "      <th>tr_type</th>\n",
              "      <th></th>\n",
              "      <th></th>\n",
              "    </tr>\n",
              "  </thead>\n",
              "  <tbody>\n",
              "    <tr>\n",
              "      <th>1010</th>\n",
              "      <td>-19784.748640</td>\n",
              "      <td>-7411.52</td>\n",
              "    </tr>\n",
              "    <tr>\n",
              "      <th>1030</th>\n",
              "      <td>-5320.980222</td>\n",
              "      <td>-2245.92</td>\n",
              "    </tr>\n",
              "    <tr>\n",
              "      <th>1100</th>\n",
              "      <td>-44061.827262</td>\n",
              "      <td>-10188.26</td>\n",
              "    </tr>\n",
              "    <tr>\n",
              "      <th>1110</th>\n",
              "      <td>-32119.330371</td>\n",
              "      <td>-11207.57</td>\n",
              "    </tr>\n",
              "    <tr>\n",
              "      <th>2010</th>\n",
              "      <td>-136077.629325</td>\n",
              "      <td>-44918.32</td>\n",
              "    </tr>\n",
              "    <tr>\n",
              "      <th>2370</th>\n",
              "      <td>-205418.249032</td>\n",
              "      <td>-44918.32</td>\n",
              "    </tr>\n",
              "    <tr>\n",
              "      <th>7010</th>\n",
              "      <td>276391.789596</td>\n",
              "      <td>112295.79</td>\n",
              "    </tr>\n",
              "    <tr>\n",
              "      <th>7030</th>\n",
              "      <td>86104.332909</td>\n",
              "      <td>13951.52</td>\n",
              "    </tr>\n",
              "    <tr>\n",
              "      <th>7070</th>\n",
              "      <td>65569.831700</td>\n",
              "      <td>11319.42</td>\n",
              "    </tr>\n",
              "    <tr>\n",
              "      <th>7071</th>\n",
              "      <td>66806.826623</td>\n",
              "      <td>3593.47</td>\n",
              "    </tr>\n",
              "  </tbody>\n",
              "</table>\n",
              "</div>\n",
              "      <button class=\"colab-df-convert\" onclick=\"convertToInteractive('df-0f41fb52-2fde-49d5-bc9c-7a60aa4524e1')\"\n",
              "              title=\"Convert this dataframe to an interactive table.\"\n",
              "              style=\"display:none;\">\n",
              "        \n",
              "  <svg xmlns=\"http://www.w3.org/2000/svg\" height=\"24px\"viewBox=\"0 0 24 24\"\n",
              "       width=\"24px\">\n",
              "    <path d=\"M0 0h24v24H0V0z\" fill=\"none\"/>\n",
              "    <path d=\"M18.56 5.44l.94 2.06.94-2.06 2.06-.94-2.06-.94-.94-2.06-.94 2.06-2.06.94zm-11 1L8.5 8.5l.94-2.06 2.06-.94-2.06-.94L8.5 2.5l-.94 2.06-2.06.94zm10 10l.94 2.06.94-2.06 2.06-.94-2.06-.94-.94-2.06-.94 2.06-2.06.94z\"/><path d=\"M17.41 7.96l-1.37-1.37c-.4-.4-.92-.59-1.43-.59-.52 0-1.04.2-1.43.59L10.3 9.45l-7.72 7.72c-.78.78-.78 2.05 0 2.83L4 21.41c.39.39.9.59 1.41.59.51 0 1.02-.2 1.41-.59l7.78-7.78 2.81-2.81c.8-.78.8-2.07 0-2.86zM5.41 20L4 18.59l7.72-7.72 1.47 1.35L5.41 20z\"/>\n",
              "  </svg>\n",
              "      </button>\n",
              "      \n",
              "  <style>\n",
              "    .colab-df-container {\n",
              "      display:flex;\n",
              "      flex-wrap:wrap;\n",
              "      gap: 12px;\n",
              "    }\n",
              "\n",
              "    .colab-df-convert {\n",
              "      background-color: #E8F0FE;\n",
              "      border: none;\n",
              "      border-radius: 50%;\n",
              "      cursor: pointer;\n",
              "      display: none;\n",
              "      fill: #1967D2;\n",
              "      height: 32px;\n",
              "      padding: 0 0 0 0;\n",
              "      width: 32px;\n",
              "    }\n",
              "\n",
              "    .colab-df-convert:hover {\n",
              "      background-color: #E2EBFA;\n",
              "      box-shadow: 0px 1px 2px rgba(60, 64, 67, 0.3), 0px 1px 3px 1px rgba(60, 64, 67, 0.15);\n",
              "      fill: #174EA6;\n",
              "    }\n",
              "\n",
              "    [theme=dark] .colab-df-convert {\n",
              "      background-color: #3B4455;\n",
              "      fill: #D2E3FC;\n",
              "    }\n",
              "\n",
              "    [theme=dark] .colab-df-convert:hover {\n",
              "      background-color: #434B5C;\n",
              "      box-shadow: 0px 1px 3px 1px rgba(0, 0, 0, 0.15);\n",
              "      filter: drop-shadow(0px 1px 2px rgba(0, 0, 0, 0.3));\n",
              "      fill: #FFFFFF;\n",
              "    }\n",
              "  </style>\n",
              "\n",
              "      <script>\n",
              "        const buttonEl =\n",
              "          document.querySelector('#df-0f41fb52-2fde-49d5-bc9c-7a60aa4524e1 button.colab-df-convert');\n",
              "        buttonEl.style.display =\n",
              "          google.colab.kernel.accessAllowed ? 'block' : 'none';\n",
              "\n",
              "        async function convertToInteractive(key) {\n",
              "          const element = document.querySelector('#df-0f41fb52-2fde-49d5-bc9c-7a60aa4524e1');\n",
              "          const dataTable =\n",
              "            await google.colab.kernel.invokeFunction('convertToInteractive',\n",
              "                                                     [key], {});\n",
              "          if (!dataTable) return;\n",
              "\n",
              "          const docLinkHtml = 'Like what you see? Visit the ' +\n",
              "            '<a target=\"_blank\" href=https://colab.research.google.com/notebooks/data_table.ipynb>data table notebook</a>'\n",
              "            + ' to learn more about interactive tables.';\n",
              "          element.innerHTML = '';\n",
              "          dataTable['output_type'] = 'display_data';\n",
              "          await google.colab.output.renderOutput(dataTable, element);\n",
              "          const docLink = document.createElement('div');\n",
              "          docLink.innerHTML = docLinkHtml;\n",
              "          element.appendChild(docLink);\n",
              "        }\n",
              "      </script>\n",
              "    </div>\n",
              "  </div>\n",
              "  "
            ]
          },
          "metadata": {},
          "execution_count": 12
        }
      ]
    },
    {
      "cell_type": "code",
      "source": [
        "first_id = sorted_table_clients.idxmax()[\"amount\"]\n",
        "second_id = sorted_table_clients_2.idxmax()[\"amount\"]\n",
        "# first_id == second_id равны в нашем случае, \n",
        "# но алгоритм написан на случай, если данные в Data будут изменены\n",
        "\n",
        "transactions_ = df_transactions.loc[df_transactions[\"customer_id\"] == (first_id or second_id)]\n",
        "\n",
        "mean = transactions_.groupby(\"tr_type\")[\"amount\"].mean()\n",
        "median = transactions_.groupby(\"tr_type\")[\"amount\"].median()\n",
        "pd.concat([mean, median], keys=[\"mean\", \"median\"], axis=1, levels=True)"
      ],
      "metadata": {
        "colab": {
          "base_uri": "https://localhost:8080/",
          "height": 488
        },
        "id": "N0Foc8znPW76",
        "outputId": "c743dafd-fbd3-4cdd-af63-7d831db1d26b"
      },
      "execution_count": 13,
      "outputs": [
        {
          "output_type": "execute_result",
          "data": {
            "text/plain": [
              "                 mean       median\n",
              "tr_type                           \n",
              "2010    -2.941056e+06 -3368873.660\n",
              "2330    -2.382398e+06 -2245915.770\n",
              "2370    -2.218505e+06 -2245915.770\n",
              "6110     1.756293e+04    10028.010\n",
              "7020     1.465129e+04    10319.985\n",
              "7021     2.850067e+04    28500.670\n",
              "7030     1.406196e+04     8848.910\n",
              "7031     1.921036e+04    12992.620\n",
              "7034     1.430648e+04    14306.480\n",
              "7040     2.153833e+04    14396.320\n",
              "7070     1.384821e+04     8714.150\n",
              "7071     1.860057e+04    12543.440\n",
              "7074     2.281159e+04     9387.930"
            ],
            "text/html": [
              "\n",
              "  <div id=\"df-56a41cd4-9510-4c55-8159-21403b9ce56b\">\n",
              "    <div class=\"colab-df-container\">\n",
              "      <div>\n",
              "<style scoped>\n",
              "    .dataframe tbody tr th:only-of-type {\n",
              "        vertical-align: middle;\n",
              "    }\n",
              "\n",
              "    .dataframe tbody tr th {\n",
              "        vertical-align: top;\n",
              "    }\n",
              "\n",
              "    .dataframe thead th {\n",
              "        text-align: right;\n",
              "    }\n",
              "</style>\n",
              "<table border=\"1\" class=\"dataframe\">\n",
              "  <thead>\n",
              "    <tr style=\"text-align: right;\">\n",
              "      <th></th>\n",
              "      <th>mean</th>\n",
              "      <th>median</th>\n",
              "    </tr>\n",
              "    <tr>\n",
              "      <th>tr_type</th>\n",
              "      <th></th>\n",
              "      <th></th>\n",
              "    </tr>\n",
              "  </thead>\n",
              "  <tbody>\n",
              "    <tr>\n",
              "      <th>2010</th>\n",
              "      <td>-2.941056e+06</td>\n",
              "      <td>-3368873.660</td>\n",
              "    </tr>\n",
              "    <tr>\n",
              "      <th>2330</th>\n",
              "      <td>-2.382398e+06</td>\n",
              "      <td>-2245915.770</td>\n",
              "    </tr>\n",
              "    <tr>\n",
              "      <th>2370</th>\n",
              "      <td>-2.218505e+06</td>\n",
              "      <td>-2245915.770</td>\n",
              "    </tr>\n",
              "    <tr>\n",
              "      <th>6110</th>\n",
              "      <td>1.756293e+04</td>\n",
              "      <td>10028.010</td>\n",
              "    </tr>\n",
              "    <tr>\n",
              "      <th>7020</th>\n",
              "      <td>1.465129e+04</td>\n",
              "      <td>10319.985</td>\n",
              "    </tr>\n",
              "    <tr>\n",
              "      <th>7021</th>\n",
              "      <td>2.850067e+04</td>\n",
              "      <td>28500.670</td>\n",
              "    </tr>\n",
              "    <tr>\n",
              "      <th>7030</th>\n",
              "      <td>1.406196e+04</td>\n",
              "      <td>8848.910</td>\n",
              "    </tr>\n",
              "    <tr>\n",
              "      <th>7031</th>\n",
              "      <td>1.921036e+04</td>\n",
              "      <td>12992.620</td>\n",
              "    </tr>\n",
              "    <tr>\n",
              "      <th>7034</th>\n",
              "      <td>1.430648e+04</td>\n",
              "      <td>14306.480</td>\n",
              "    </tr>\n",
              "    <tr>\n",
              "      <th>7040</th>\n",
              "      <td>2.153833e+04</td>\n",
              "      <td>14396.320</td>\n",
              "    </tr>\n",
              "    <tr>\n",
              "      <th>7070</th>\n",
              "      <td>1.384821e+04</td>\n",
              "      <td>8714.150</td>\n",
              "    </tr>\n",
              "    <tr>\n",
              "      <th>7071</th>\n",
              "      <td>1.860057e+04</td>\n",
              "      <td>12543.440</td>\n",
              "    </tr>\n",
              "    <tr>\n",
              "      <th>7074</th>\n",
              "      <td>2.281159e+04</td>\n",
              "      <td>9387.930</td>\n",
              "    </tr>\n",
              "  </tbody>\n",
              "</table>\n",
              "</div>\n",
              "      <button class=\"colab-df-convert\" onclick=\"convertToInteractive('df-56a41cd4-9510-4c55-8159-21403b9ce56b')\"\n",
              "              title=\"Convert this dataframe to an interactive table.\"\n",
              "              style=\"display:none;\">\n",
              "        \n",
              "  <svg xmlns=\"http://www.w3.org/2000/svg\" height=\"24px\"viewBox=\"0 0 24 24\"\n",
              "       width=\"24px\">\n",
              "    <path d=\"M0 0h24v24H0V0z\" fill=\"none\"/>\n",
              "    <path d=\"M18.56 5.44l.94 2.06.94-2.06 2.06-.94-2.06-.94-.94-2.06-.94 2.06-2.06.94zm-11 1L8.5 8.5l.94-2.06 2.06-.94-2.06-.94L8.5 2.5l-.94 2.06-2.06.94zm10 10l.94 2.06.94-2.06 2.06-.94-2.06-.94-.94-2.06-.94 2.06-2.06.94z\"/><path d=\"M17.41 7.96l-1.37-1.37c-.4-.4-.92-.59-1.43-.59-.52 0-1.04.2-1.43.59L10.3 9.45l-7.72 7.72c-.78.78-.78 2.05 0 2.83L4 21.41c.39.39.9.59 1.41.59.51 0 1.02-.2 1.41-.59l7.78-7.78 2.81-2.81c.8-.78.8-2.07 0-2.86zM5.41 20L4 18.59l7.72-7.72 1.47 1.35L5.41 20z\"/>\n",
              "  </svg>\n",
              "      </button>\n",
              "      \n",
              "  <style>\n",
              "    .colab-df-container {\n",
              "      display:flex;\n",
              "      flex-wrap:wrap;\n",
              "      gap: 12px;\n",
              "    }\n",
              "\n",
              "    .colab-df-convert {\n",
              "      background-color: #E8F0FE;\n",
              "      border: none;\n",
              "      border-radius: 50%;\n",
              "      cursor: pointer;\n",
              "      display: none;\n",
              "      fill: #1967D2;\n",
              "      height: 32px;\n",
              "      padding: 0 0 0 0;\n",
              "      width: 32px;\n",
              "    }\n",
              "\n",
              "    .colab-df-convert:hover {\n",
              "      background-color: #E2EBFA;\n",
              "      box-shadow: 0px 1px 2px rgba(60, 64, 67, 0.3), 0px 1px 3px 1px rgba(60, 64, 67, 0.15);\n",
              "      fill: #174EA6;\n",
              "    }\n",
              "\n",
              "    [theme=dark] .colab-df-convert {\n",
              "      background-color: #3B4455;\n",
              "      fill: #D2E3FC;\n",
              "    }\n",
              "\n",
              "    [theme=dark] .colab-df-convert:hover {\n",
              "      background-color: #434B5C;\n",
              "      box-shadow: 0px 1px 3px 1px rgba(0, 0, 0, 0.15);\n",
              "      filter: drop-shadow(0px 1px 2px rgba(0, 0, 0, 0.3));\n",
              "      fill: #FFFFFF;\n",
              "    }\n",
              "  </style>\n",
              "\n",
              "      <script>\n",
              "        const buttonEl =\n",
              "          document.querySelector('#df-56a41cd4-9510-4c55-8159-21403b9ce56b button.colab-df-convert');\n",
              "        buttonEl.style.display =\n",
              "          google.colab.kernel.accessAllowed ? 'block' : 'none';\n",
              "\n",
              "        async function convertToInteractive(key) {\n",
              "          const element = document.querySelector('#df-56a41cd4-9510-4c55-8159-21403b9ce56b');\n",
              "          const dataTable =\n",
              "            await google.colab.kernel.invokeFunction('convertToInteractive',\n",
              "                                                     [key], {});\n",
              "          if (!dataTable) return;\n",
              "\n",
              "          const docLinkHtml = 'Like what you see? Visit the ' +\n",
              "            '<a target=\"_blank\" href=https://colab.research.google.com/notebooks/data_table.ipynb>data table notebook</a>'\n",
              "            + ' to learn more about interactive tables.';\n",
              "          element.innerHTML = '';\n",
              "          dataTable['output_type'] = 'display_data';\n",
              "          await google.colab.output.renderOutput(dataTable, element);\n",
              "          const docLink = document.createElement('div');\n",
              "          docLink.innerHTML = docLinkHtml;\n",
              "          element.appendChild(docLink);\n",
              "        }\n",
              "      </script>\n",
              "    </div>\n",
              "  </div>\n",
              "  "
            ]
          },
          "metadata": {},
          "execution_count": 13
        }
      ]
    },
    {
      "cell_type": "markdown",
      "metadata": {
        "id": "BYXwM4l3QDBu"
      },
      "source": [
        "## Подготовка для заданий 5-8"
      ]
    },
    {
      "cell_type": "markdown",
      "metadata": {
        "id": "XWQzFeKcQHRe"
      },
      "source": [
        "*Из заданий 5-8 нужно выполнить минимум два любых*\n",
        "\n",
        "Соедините transactions с всеми остальными таблицами (tr_mcc_codes, tr_types, gender_train). Причём с gender_train необходимо смёрджиться с помощью left join, а с оставшимися датафреймами - через inner.\n",
        "После получения результата таблицы gender_train, tr_types, tr_mcc_codes можно удалить. В результате соединения датафреймов должно получиться 999584 строки."
      ]
    },
    {
      "cell_type": "code",
      "metadata": {
        "id": "sndJxjJ7QQf5",
        "colab": {
          "base_uri": "https://localhost:8080/"
        },
        "outputId": "988b64d0-cae1-4795-aff4-0a0ba1dba235"
      },
      "source": [
        "df_transactions = pd.merge(df_transactions, df_gender_train, how='left')\n",
        "df_transactions = pd.merge(df_transactions, df_tr_mcc_codes, how='inner')\n",
        "df_transactions = pd.merge(df_transactions, df_tr_types, how='inner')\n",
        "df_transactions.shape"
      ],
      "execution_count": 14,
      "outputs": [
        {
          "output_type": "execute_result",
          "data": {
            "text/plain": [
              "(999584, 9)"
            ]
          },
          "metadata": {},
          "execution_count": 14
        }
      ]
    },
    {
      "cell_type": "markdown",
      "metadata": {
        "id": "8vrFauJ8QgmT"
      },
      "source": [
        "## Задание 5"
      ]
    },
    {
      "cell_type": "markdown",
      "metadata": {
        "id": "rOjEQ5xyQfE_"
      },
      "source": [
        "1. Определите модуль разницы между средними тратами женщин и мужчин (трата - отрицательное значение amount).\n",
        "2. Определите модуль разницы между средними поступлениями у мужчин и женщин\n",
        "\n",
        "Обратите внимание, что для вычисления модуля разности точных знаний о том, \n",
        "какой класc относится к мужчинам, а какой - к женщинам, не требуется."
      ]
    },
    {
      "cell_type": "code",
      "source": [
        "negative_trasactions = df_transactions[df_transactions[\"amount\"] < 0].groupby(\"gender\")[\"amount\"].mean()\n",
        "abs(negative_trasactions[0] - negative_trasactions[1])\n"
      ],
      "metadata": {
        "colab": {
          "base_uri": "https://localhost:8080/"
        },
        "id": "6xX00aPfYEKN",
        "outputId": "d05490f0-a3d0-4c74-df0a-74ae3903da96"
      },
      "execution_count": 15,
      "outputs": [
        {
          "output_type": "execute_result",
          "data": {
            "text/plain": [
              "32718.054920224655"
            ]
          },
          "metadata": {},
          "execution_count": 15
        }
      ]
    },
    {
      "cell_type": "code",
      "source": [
        "positive_trasactions = df_transactions[df_transactions[\"amount\"] > 0].groupby(\"gender\")[\"amount\"].mean()\n",
        "abs(positive_trasactions[0] - positive_trasactions[1])\n"
      ],
      "metadata": {
        "colab": {
          "base_uri": "https://localhost:8080/"
        },
        "id": "Pzrto8cwZ4cF",
        "outputId": "64d73900-24d8-4f85-9084-8ec73db1fdaa"
      },
      "execution_count": 16,
      "outputs": [
        {
          "output_type": "execute_result",
          "data": {
            "text/plain": [
              "63366.57104801464"
            ]
          },
          "metadata": {},
          "execution_count": 16
        }
      ]
    },
    {
      "cell_type": "markdown",
      "metadata": {
        "id": "DSHFLbepQ7G1"
      },
      "source": [
        "## Задание 6"
      ]
    },
    {
      "cell_type": "markdown",
      "metadata": {
        "id": "2EF1490bQ-17"
      },
      "source": [
        "1. По всем типам транзакций рассчитайте максимальную сумму прихода на карту (из строго положительных сумм по столбцу amount) отдельно для мужчин и женщин (назовите ее \"max_income\"). Оставьте по 10 типов транзакций для мужчин и для женщин, наименьших среди всех типов транзакций по полученным значениям \"max_income\". \n",
        "2. Выделите среди них те типы транзакций, которые встречаются одновременно и у мужчин, и у женщин"
      ]
    },
    {
      "cell_type": "code",
      "source": [
        "max_income = df_transactions[df_transactions[\"amount\"] > 0].groupby([\"gender\", \"tr_type\"])[\"amount\"].sum()\n",
        "max_income_top_10_selection_0_gender =  max_income[0].sort_values()[:10]\n",
        "max_income_top_10_selection_0_gender"
      ],
      "metadata": {
        "id": "VjKm3wfKbfL8",
        "colab": {
          "base_uri": "https://localhost:8080/"
        },
        "outputId": "a4d6b225-2fc0-440a-89d3-7b0383cbf633"
      },
      "execution_count": 17,
      "outputs": [
        {
          "output_type": "execute_result",
          "data": {
            "text/plain": [
              "tr_type\n",
              "4051     1122.96\n",
              "4210     2245.92\n",
              "4110     2245.92\n",
              "2370     2335.75\n",
              "7075     6737.75\n",
              "2110    22459.16\n",
              "1010    31532.66\n",
              "4100    40334.88\n",
              "2210    68315.82\n",
              "1210    83644.87\n",
              "Name: amount, dtype: float64"
            ]
          },
          "metadata": {},
          "execution_count": 17
        }
      ]
    },
    {
      "cell_type": "code",
      "source": [
        "max_income_top_10_selection_1_gender =  max_income[1].sort_values()[:10]\n",
        "max_income_top_10_selection_1_gender"
      ],
      "metadata": {
        "colab": {
          "base_uri": "https://localhost:8080/"
        },
        "id": "AFN1mDhkzyBg",
        "outputId": "0e59db6a-3482-4e19-d725-3927859d8b67"
      },
      "execution_count": 18,
      "outputs": [
        {
          "output_type": "execute_result",
          "data": {
            "text/plain": [
              "tr_type\n",
              "2020      2245.92\n",
              "4110      4491.84\n",
              "1010     35317.03\n",
              "8100     64682.37\n",
              "6000     79280.83\n",
              "7041     87590.72\n",
              "2370    113194.15\n",
              "7015    121279.45\n",
              "2110    179673.26\n",
              "2010    224591.59\n",
              "Name: amount, dtype: float64"
            ]
          },
          "metadata": {},
          "execution_count": 18
        }
      ]
    },
    {
      "cell_type": "code",
      "source": [
        "max_income_top_10_selection_1_gender.to_frame().merge(max_income_top_10_selection_0_gender.to_frame(), how='inner', on='tr_type')"
      ],
      "metadata": {
        "colab": {
          "base_uri": "https://localhost:8080/",
          "height": 206
        },
        "id": "GTNvAsWY0fB2",
        "outputId": "afacfb95-2836-4a9c-aa6e-77e11f6ae5c1"
      },
      "execution_count": 19,
      "outputs": [
        {
          "output_type": "execute_result",
          "data": {
            "text/plain": [
              "          amount_x  amount_y\n",
              "tr_type                     \n",
              "4110       4491.84   2245.92\n",
              "1010      35317.03  31532.66\n",
              "2370     113194.15   2335.75\n",
              "2110     179673.26  22459.16"
            ],
            "text/html": [
              "\n",
              "  <div id=\"df-89b67782-0814-4433-9d2e-83ca28693b23\">\n",
              "    <div class=\"colab-df-container\">\n",
              "      <div>\n",
              "<style scoped>\n",
              "    .dataframe tbody tr th:only-of-type {\n",
              "        vertical-align: middle;\n",
              "    }\n",
              "\n",
              "    .dataframe tbody tr th {\n",
              "        vertical-align: top;\n",
              "    }\n",
              "\n",
              "    .dataframe thead th {\n",
              "        text-align: right;\n",
              "    }\n",
              "</style>\n",
              "<table border=\"1\" class=\"dataframe\">\n",
              "  <thead>\n",
              "    <tr style=\"text-align: right;\">\n",
              "      <th></th>\n",
              "      <th>amount_x</th>\n",
              "      <th>amount_y</th>\n",
              "    </tr>\n",
              "    <tr>\n",
              "      <th>tr_type</th>\n",
              "      <th></th>\n",
              "      <th></th>\n",
              "    </tr>\n",
              "  </thead>\n",
              "  <tbody>\n",
              "    <tr>\n",
              "      <th>4110</th>\n",
              "      <td>4491.84</td>\n",
              "      <td>2245.92</td>\n",
              "    </tr>\n",
              "    <tr>\n",
              "      <th>1010</th>\n",
              "      <td>35317.03</td>\n",
              "      <td>31532.66</td>\n",
              "    </tr>\n",
              "    <tr>\n",
              "      <th>2370</th>\n",
              "      <td>113194.15</td>\n",
              "      <td>2335.75</td>\n",
              "    </tr>\n",
              "    <tr>\n",
              "      <th>2110</th>\n",
              "      <td>179673.26</td>\n",
              "      <td>22459.16</td>\n",
              "    </tr>\n",
              "  </tbody>\n",
              "</table>\n",
              "</div>\n",
              "      <button class=\"colab-df-convert\" onclick=\"convertToInteractive('df-89b67782-0814-4433-9d2e-83ca28693b23')\"\n",
              "              title=\"Convert this dataframe to an interactive table.\"\n",
              "              style=\"display:none;\">\n",
              "        \n",
              "  <svg xmlns=\"http://www.w3.org/2000/svg\" height=\"24px\"viewBox=\"0 0 24 24\"\n",
              "       width=\"24px\">\n",
              "    <path d=\"M0 0h24v24H0V0z\" fill=\"none\"/>\n",
              "    <path d=\"M18.56 5.44l.94 2.06.94-2.06 2.06-.94-2.06-.94-.94-2.06-.94 2.06-2.06.94zm-11 1L8.5 8.5l.94-2.06 2.06-.94-2.06-.94L8.5 2.5l-.94 2.06-2.06.94zm10 10l.94 2.06.94-2.06 2.06-.94-2.06-.94-.94-2.06-.94 2.06-2.06.94z\"/><path d=\"M17.41 7.96l-1.37-1.37c-.4-.4-.92-.59-1.43-.59-.52 0-1.04.2-1.43.59L10.3 9.45l-7.72 7.72c-.78.78-.78 2.05 0 2.83L4 21.41c.39.39.9.59 1.41.59.51 0 1.02-.2 1.41-.59l7.78-7.78 2.81-2.81c.8-.78.8-2.07 0-2.86zM5.41 20L4 18.59l7.72-7.72 1.47 1.35L5.41 20z\"/>\n",
              "  </svg>\n",
              "      </button>\n",
              "      \n",
              "  <style>\n",
              "    .colab-df-container {\n",
              "      display:flex;\n",
              "      flex-wrap:wrap;\n",
              "      gap: 12px;\n",
              "    }\n",
              "\n",
              "    .colab-df-convert {\n",
              "      background-color: #E8F0FE;\n",
              "      border: none;\n",
              "      border-radius: 50%;\n",
              "      cursor: pointer;\n",
              "      display: none;\n",
              "      fill: #1967D2;\n",
              "      height: 32px;\n",
              "      padding: 0 0 0 0;\n",
              "      width: 32px;\n",
              "    }\n",
              "\n",
              "    .colab-df-convert:hover {\n",
              "      background-color: #E2EBFA;\n",
              "      box-shadow: 0px 1px 2px rgba(60, 64, 67, 0.3), 0px 1px 3px 1px rgba(60, 64, 67, 0.15);\n",
              "      fill: #174EA6;\n",
              "    }\n",
              "\n",
              "    [theme=dark] .colab-df-convert {\n",
              "      background-color: #3B4455;\n",
              "      fill: #D2E3FC;\n",
              "    }\n",
              "\n",
              "    [theme=dark] .colab-df-convert:hover {\n",
              "      background-color: #434B5C;\n",
              "      box-shadow: 0px 1px 3px 1px rgba(0, 0, 0, 0.15);\n",
              "      filter: drop-shadow(0px 1px 2px rgba(0, 0, 0, 0.3));\n",
              "      fill: #FFFFFF;\n",
              "    }\n",
              "  </style>\n",
              "\n",
              "      <script>\n",
              "        const buttonEl =\n",
              "          document.querySelector('#df-89b67782-0814-4433-9d2e-83ca28693b23 button.colab-df-convert');\n",
              "        buttonEl.style.display =\n",
              "          google.colab.kernel.accessAllowed ? 'block' : 'none';\n",
              "\n",
              "        async function convertToInteractive(key) {\n",
              "          const element = document.querySelector('#df-89b67782-0814-4433-9d2e-83ca28693b23');\n",
              "          const dataTable =\n",
              "            await google.colab.kernel.invokeFunction('convertToInteractive',\n",
              "                                                     [key], {});\n",
              "          if (!dataTable) return;\n",
              "\n",
              "          const docLinkHtml = 'Like what you see? Visit the ' +\n",
              "            '<a target=\"_blank\" href=https://colab.research.google.com/notebooks/data_table.ipynb>data table notebook</a>'\n",
              "            + ' to learn more about interactive tables.';\n",
              "          element.innerHTML = '';\n",
              "          dataTable['output_type'] = 'display_data';\n",
              "          await google.colab.output.renderOutput(dataTable, element);\n",
              "          const docLink = document.createElement('div');\n",
              "          docLink.innerHTML = docLinkHtml;\n",
              "          element.appendChild(docLink);\n",
              "        }\n",
              "      </script>\n",
              "    </div>\n",
              "  </div>\n",
              "  "
            ]
          },
          "metadata": {},
          "execution_count": 19
        }
      ]
    },
    {
      "cell_type": "markdown",
      "metadata": {
        "id": "W-LaVwRdR3UB"
      },
      "source": [
        "## Задание 7"
      ]
    },
    {
      "cell_type": "markdown",
      "metadata": {
        "id": "rhI4NOciR7e0"
      },
      "source": [
        "1. Найдите суммы затрат по каждой категории (mcc) для мужчин и для женщин. \n",
        "2. Найдите топ 10 категорий с самыми большими относительными модулями разности в тратах для разных полов (в ответе должны присутствовать описания mcc кодов)."
      ]
    },
    {
      "cell_type": "code",
      "source": [
        "mcc_costs = df_transactions[df_transactions[\"amount\"] < 0].groupby([\"gender\", \"mcc_code\"])[\"amount\"].sum()\n",
        "mcc_costs"
      ],
      "metadata": {
        "colab": {
          "base_uri": "https://localhost:8080/"
        },
        "id": "b9vsl44K3pKN",
        "outputId": "023f59ad-f9c6-4d8e-872f-66ab78c82202"
      },
      "execution_count": 20,
      "outputs": [
        {
          "output_type": "execute_result",
          "data": {
            "text/plain": [
              "gender  mcc_code\n",
              "0.0     742          -386207.68\n",
              "        1711         -674897.69\n",
              "        1799         -261626.73\n",
              "        2741          -20746.42\n",
              "        3000       -74431645.27\n",
              "                       ...     \n",
              "1.0     8999       -28643346.63\n",
              "        9222         -988205.17\n",
              "        9311         -373271.22\n",
              "        9399        -1810820.67\n",
              "        9402           -4581.67\n",
              "Name: amount, Length: 349, dtype: float64"
            ]
          },
          "metadata": {},
          "execution_count": 20
        }
      ]
    },
    {
      "cell_type": "code",
      "source": [
        "top_modulo_expenses = abs(mcc_costs[0] - mcc_costs[1]).sort_values(ascending=False)[:10]\n",
        "df_tr_mcc_codes[df_tr_mcc_codes[\"mcc_code\"].isin(top_modulo_expenses.index)]"
      ],
      "metadata": {
        "colab": {
          "base_uri": "https://localhost:8080/",
          "height": 363
        },
        "id": "ZJftI3y85VXd",
        "outputId": "5aa4e3a0-3729-494e-e6e6-4118c063167a"
      },
      "execution_count": 21,
      "outputs": [
        {
          "output_type": "execute_result",
          "data": {
            "text/plain": [
              "     mcc_code                                    mcc_description\n",
              "22       4829                                  Денежные переводы\n",
              "62       5511  Легковой и грузовой транспорт — продажа, серви...\n",
              "64       5533                          Автозапчасти и аксессуары\n",
              "65       5541                            Станции техобслуживания\n",
              "75       5661                                   Обувные магазины\n",
              "90       5812             Места общественного питания, рестораны\n",
              "116      5977                                 Магазины косметики\n",
              "123      6010   Финансовые институты — снятие наличности вручную\n",
              "124      6011  Финансовые институты — снятие наличности автом...\n",
              "162      7995                       Транзакции по азартным играм"
            ],
            "text/html": [
              "\n",
              "  <div id=\"df-03fad305-4c98-4016-ba88-d77f4ab98b5d\">\n",
              "    <div class=\"colab-df-container\">\n",
              "      <div>\n",
              "<style scoped>\n",
              "    .dataframe tbody tr th:only-of-type {\n",
              "        vertical-align: middle;\n",
              "    }\n",
              "\n",
              "    .dataframe tbody tr th {\n",
              "        vertical-align: top;\n",
              "    }\n",
              "\n",
              "    .dataframe thead th {\n",
              "        text-align: right;\n",
              "    }\n",
              "</style>\n",
              "<table border=\"1\" class=\"dataframe\">\n",
              "  <thead>\n",
              "    <tr style=\"text-align: right;\">\n",
              "      <th></th>\n",
              "      <th>mcc_code</th>\n",
              "      <th>mcc_description</th>\n",
              "    </tr>\n",
              "  </thead>\n",
              "  <tbody>\n",
              "    <tr>\n",
              "      <th>22</th>\n",
              "      <td>4829</td>\n",
              "      <td>Денежные переводы</td>\n",
              "    </tr>\n",
              "    <tr>\n",
              "      <th>62</th>\n",
              "      <td>5511</td>\n",
              "      <td>Легковой и грузовой транспорт — продажа, серви...</td>\n",
              "    </tr>\n",
              "    <tr>\n",
              "      <th>64</th>\n",
              "      <td>5533</td>\n",
              "      <td>Автозапчасти и аксессуары</td>\n",
              "    </tr>\n",
              "    <tr>\n",
              "      <th>65</th>\n",
              "      <td>5541</td>\n",
              "      <td>Станции техобслуживания</td>\n",
              "    </tr>\n",
              "    <tr>\n",
              "      <th>75</th>\n",
              "      <td>5661</td>\n",
              "      <td>Обувные магазины</td>\n",
              "    </tr>\n",
              "    <tr>\n",
              "      <th>90</th>\n",
              "      <td>5812</td>\n",
              "      <td>Места общественного питания, рестораны</td>\n",
              "    </tr>\n",
              "    <tr>\n",
              "      <th>116</th>\n",
              "      <td>5977</td>\n",
              "      <td>Магазины косметики</td>\n",
              "    </tr>\n",
              "    <tr>\n",
              "      <th>123</th>\n",
              "      <td>6010</td>\n",
              "      <td>Финансовые институты — снятие наличности вручную</td>\n",
              "    </tr>\n",
              "    <tr>\n",
              "      <th>124</th>\n",
              "      <td>6011</td>\n",
              "      <td>Финансовые институты — снятие наличности автом...</td>\n",
              "    </tr>\n",
              "    <tr>\n",
              "      <th>162</th>\n",
              "      <td>7995</td>\n",
              "      <td>Транзакции по азартным играм</td>\n",
              "    </tr>\n",
              "  </tbody>\n",
              "</table>\n",
              "</div>\n",
              "      <button class=\"colab-df-convert\" onclick=\"convertToInteractive('df-03fad305-4c98-4016-ba88-d77f4ab98b5d')\"\n",
              "              title=\"Convert this dataframe to an interactive table.\"\n",
              "              style=\"display:none;\">\n",
              "        \n",
              "  <svg xmlns=\"http://www.w3.org/2000/svg\" height=\"24px\"viewBox=\"0 0 24 24\"\n",
              "       width=\"24px\">\n",
              "    <path d=\"M0 0h24v24H0V0z\" fill=\"none\"/>\n",
              "    <path d=\"M18.56 5.44l.94 2.06.94-2.06 2.06-.94-2.06-.94-.94-2.06-.94 2.06-2.06.94zm-11 1L8.5 8.5l.94-2.06 2.06-.94-2.06-.94L8.5 2.5l-.94 2.06-2.06.94zm10 10l.94 2.06.94-2.06 2.06-.94-2.06-.94-.94-2.06-.94 2.06-2.06.94z\"/><path d=\"M17.41 7.96l-1.37-1.37c-.4-.4-.92-.59-1.43-.59-.52 0-1.04.2-1.43.59L10.3 9.45l-7.72 7.72c-.78.78-.78 2.05 0 2.83L4 21.41c.39.39.9.59 1.41.59.51 0 1.02-.2 1.41-.59l7.78-7.78 2.81-2.81c.8-.78.8-2.07 0-2.86zM5.41 20L4 18.59l7.72-7.72 1.47 1.35L5.41 20z\"/>\n",
              "  </svg>\n",
              "      </button>\n",
              "      \n",
              "  <style>\n",
              "    .colab-df-container {\n",
              "      display:flex;\n",
              "      flex-wrap:wrap;\n",
              "      gap: 12px;\n",
              "    }\n",
              "\n",
              "    .colab-df-convert {\n",
              "      background-color: #E8F0FE;\n",
              "      border: none;\n",
              "      border-radius: 50%;\n",
              "      cursor: pointer;\n",
              "      display: none;\n",
              "      fill: #1967D2;\n",
              "      height: 32px;\n",
              "      padding: 0 0 0 0;\n",
              "      width: 32px;\n",
              "    }\n",
              "\n",
              "    .colab-df-convert:hover {\n",
              "      background-color: #E2EBFA;\n",
              "      box-shadow: 0px 1px 2px rgba(60, 64, 67, 0.3), 0px 1px 3px 1px rgba(60, 64, 67, 0.15);\n",
              "      fill: #174EA6;\n",
              "    }\n",
              "\n",
              "    [theme=dark] .colab-df-convert {\n",
              "      background-color: #3B4455;\n",
              "      fill: #D2E3FC;\n",
              "    }\n",
              "\n",
              "    [theme=dark] .colab-df-convert:hover {\n",
              "      background-color: #434B5C;\n",
              "      box-shadow: 0px 1px 3px 1px rgba(0, 0, 0, 0.15);\n",
              "      filter: drop-shadow(0px 1px 2px rgba(0, 0, 0, 0.3));\n",
              "      fill: #FFFFFF;\n",
              "    }\n",
              "  </style>\n",
              "\n",
              "      <script>\n",
              "        const buttonEl =\n",
              "          document.querySelector('#df-03fad305-4c98-4016-ba88-d77f4ab98b5d button.colab-df-convert');\n",
              "        buttonEl.style.display =\n",
              "          google.colab.kernel.accessAllowed ? 'block' : 'none';\n",
              "\n",
              "        async function convertToInteractive(key) {\n",
              "          const element = document.querySelector('#df-03fad305-4c98-4016-ba88-d77f4ab98b5d');\n",
              "          const dataTable =\n",
              "            await google.colab.kernel.invokeFunction('convertToInteractive',\n",
              "                                                     [key], {});\n",
              "          if (!dataTable) return;\n",
              "\n",
              "          const docLinkHtml = 'Like what you see? Visit the ' +\n",
              "            '<a target=\"_blank\" href=https://colab.research.google.com/notebooks/data_table.ipynb>data table notebook</a>'\n",
              "            + ' to learn more about interactive tables.';\n",
              "          element.innerHTML = '';\n",
              "          dataTable['output_type'] = 'display_data';\n",
              "          await google.colab.output.renderOutput(dataTable, element);\n",
              "          const docLink = document.createElement('div');\n",
              "          docLink.innerHTML = docLinkHtml;\n",
              "          element.appendChild(docLink);\n",
              "        }\n",
              "      </script>\n",
              "    </div>\n",
              "  </div>\n",
              "  "
            ]
          },
          "metadata": {},
          "execution_count": 21
        }
      ]
    },
    {
      "cell_type": "markdown",
      "metadata": {
        "id": "aGaPkQkVSvl8"
      },
      "source": [
        "## Задание 8"
      ]
    },
    {
      "cell_type": "markdown",
      "metadata": {
        "id": "T7Ox1qAXTHQl"
      },
      "source": [
        "1. Из поля tr_datetime выделите час tr_hour, в который произошла транзакция, как первые 2 цифры до \":\". (\\**)\n",
        "2. Посчитайте количество транзакций с amount<0 в ночное время для мужчин и женщин. Ночное время - это примерно 00-06 часов. "
      ]
    },
    {
      "cell_type": "markdown",
      "source": [
        "не делал"
      ],
      "metadata": {
        "id": "xPQflIXM9uR_"
      }
    }
  ]
}