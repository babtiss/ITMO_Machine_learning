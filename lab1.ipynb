{
  "nbformat": 4,
  "nbformat_minor": 0,
  "metadata": {
    "colab": {
      "provenance": [],
      "collapsed_sections": [
        "MFKSC2UUA7Ne",
        "Mth2u7nzAiqw",
        "JrEY8hzdfmM2",
        "mrm41pzufmNy",
        "2kJObRBHfmOd",
        "ylh_09YIfmOg",
        "QeBH-jT4fmOy"
      ]
    },
    "kernelspec": {
      "display_name": "Python 3",
      "language": "python",
      "name": "python3"
    },
    "language_info": {
      "codemirror_mode": {
        "name": "ipython",
        "version": 3
      },
      "file_extension": ".py",
      "mimetype": "text/x-python",
      "name": "python",
      "nbconvert_exporter": "python",
      "pygments_lexer": "ipython3",
      "version": "3.7.4"
    }
  },
  "cells": [
    {
      "cell_type": "markdown",
      "source": [
        "Перед началом выполнения, сделайте копию этого colab'а. Чтобы сделать копию нужно в пункте меню Файл выбрать \"Сохранить копию на диске\""
      ],
      "metadata": {
        "id": "131T1pm5PaF4"
      }
    },
    {
      "cell_type": "markdown",
      "metadata": {
        "id": "BsNwjQDRfmLY"
      },
      "source": [
        "# Задание 1"
      ]
    },
    {
      "cell_type": "markdown",
      "metadata": {
        "id": "wu6r1-s7fmLe"
      },
      "source": [
        "---"
      ]
    },
    {
      "cell_type": "markdown",
      "metadata": {
        "id": "zxRIdPO9gYyX"
      },
      "source": [
        "Напишите программу, которая будет решать систему линейных уравнений вида:\n",
        "\n",
        "\\begin{matrix} a_{11}x+a_{12}y=b_{1}&(1) \\\\ a_{21}x+a_{22}y=b_{2} &(2) \\end{matrix}\n",
        "​\t\n",
        "На вход программа должна принимать 2 строки.\n",
        "\n",
        "Каждая строка содержит 3 действительных числа через пробел: коэффициенты a и b.\n",
        "\n",
        "На выходе программа должна выдавать значения x и y в одну строку через пробел.\n",
        " \n",
        "\n",
        "Примечание 1. Для разделения строки на отдельные элементы используйте функцию split()\n",
        "\n",
        "Примечание 2. В качестве разделителя между целой и дробной частью используйте точку, например 0.2"
      ]
    },
    {
      "cell_type": "markdown",
      "source": [
        "### Решение:"
      ],
      "metadata": {
        "id": "O9nyXxhaIO3S"
      }
    },
    {
      "cell_type": "code",
      "metadata": {
        "id": "6sxlcLbVlrjl",
        "colab": {
          "base_uri": "https://localhost:8080/"
        },
        "outputId": "7a8f1661-bda2-4229-bbae-fbdbcf63373e"
      },
      "source": [
        "import numpy\n",
        "\n",
        "\n",
        "def linal():\n",
        "    a11, a12, b1 = map(float, input().split())\n",
        "    a21, a22, b2 = map(float, input().split())\n",
        "    M = numpy.array([[a11, a12],\n",
        "                     [a21, a22]])\n",
        "    v = numpy.array([b1, b2])\n",
        "    x, y = numpy.linalg.solve(M, v)\n",
        "    print(x, y)\n",
        "    return\n",
        "\n",
        "\n",
        "linal()\n"
      ],
      "execution_count": null,
      "outputs": [
        {
          "output_type": "stream",
          "name": "stdout",
          "text": [
            "1 5 11 \n",
            "2 3 8\n",
            "1.0 2.0\n"
          ]
        }
      ]
    },
    {
      "cell_type": "markdown",
      "metadata": {
        "id": "wLoVDMQnfmOv"
      },
      "source": [
        "# Задание 2"
      ]
    },
    {
      "cell_type": "markdown",
      "metadata": {
        "id": "6bmt_YF3fmOw"
      },
      "source": [
        "Напишите функцию `decorate_matrix`, которая получает на вход одно целое число больше единицы. Функция должна возвращать матрицу n на n, у которой на границах стоят единицы, а на всех остальных позициях(если остались позиции не на границах) стоят нули.\n",
        "\n",
        "Нужно сделать без использования  циклов.\n",
        "\n",
        "```\n",
        "# ожидаемый резальтат для аргумента 5\n",
        "array([[1., 1., 1., 1., 1.],\n",
        "[1., 0., 0., 0., 1.],\n",
        "[1., 0., 0., 0., 1.],\n",
        "[1., 0., 0., 0., 1.],\n",
        "[1., 1., 1., 1., 1.]])\n",
        "```\n",
        "\n"
      ]
    },
    {
      "cell_type": "markdown",
      "source": [
        "### Решение:"
      ],
      "metadata": {
        "id": "FxECekBRJwVQ"
      }
    },
    {
      "cell_type": "code",
      "source": [
        "import numpy\n",
        "\n",
        "\n",
        "def decorate_matrix(n: int):\n",
        "    M = numpy.ones((n, n))\n",
        "    M[1:-1, 1:-1] = 0\n",
        "    print(M)\n",
        "    return\n",
        "\n",
        "\n",
        "decorate_matrix(int(input()))\n"
      ],
      "metadata": {
        "colab": {
          "base_uri": "https://localhost:8080/"
        },
        "id": "QQEqLp3lKKQc",
        "outputId": "352d349d-3d87-4109-aad5-e79e8a24f35f"
      },
      "execution_count": null,
      "outputs": [
        {
          "output_type": "stream",
          "name": "stdout",
          "text": [
            "3\n",
            "[[1. 1. 1.]\n",
            " [1. 0. 1.]\n",
            " [1. 1. 1.]]\n"
          ]
        }
      ]
    },
    {
      "cell_type": "markdown",
      "metadata": {
        "id": "75sxny1zSCbl"
      },
      "source": [
        "# Задание 3"
      ]
    },
    {
      "cell_type": "markdown",
      "metadata": {
        "id": "2Xq1tBBAS5UJ"
      },
      "source": [
        "1) реализуйте 2 функции:\n",
        "\n",
        "$f(x) = (x+a)^2 - b$ \n",
        "\n",
        "$g(x) = |f(x)|$\n",
        "\n",
        "2) Найдите аргументы, при которых достигается минимум функций $f(x)$ и $g(x)$\n",
        "\n",
        "Пример. \n",
        "Входные значение: $a=3$ и $b=4$\n",
        "\n",
        "Выходные значения:\n",
        "\n",
        "`-3.0 -1.0`"
      ]
    },
    {
      "cell_type": "markdown",
      "source": [
        "### Решение:"
      ],
      "metadata": {
        "id": "nPKry4kdUDq1"
      }
    },
    {
      "cell_type": "code",
      "source": [
        "def f(x: float):\n",
        "    return (x + a) ** 2 - b\n",
        "\n",
        "\n",
        "def g(x: float):\n",
        "    return abs(f(x))\n",
        "\n",
        "\n",
        "def find_min_func():\n",
        "    f_x_min = -a\n",
        "    f_y_min = f(f_x_min)\n",
        "\n",
        "    if f_y_min >= 0:\n",
        "        g_x_min = f_x_min\n",
        "        return [f_x_min], [g_x_min]\n",
        "\n",
        "    else:\n",
        "        discriminant = 4 * a * a - 4 * (a * a - b)\n",
        "        # discriminant > 0\n",
        "        g_x1_min = (-2 * a + discriminant ** 0.5) / 2\n",
        "        g_x2_min = (-2 * a - discriminant ** 0.5) / 2\n",
        "        return [f_x_min], [g_x1_min, g_x2_min]\n",
        "\n",
        "\n",
        "a, b = map(int, input().split())\n",
        "f_answer, g_answer = find_min_func()\n",
        "print(*f_answer)\n",
        "print(*g_answer)"
      ],
      "metadata": {
        "colab": {
          "base_uri": "https://localhost:8080/"
        },
        "id": "j3Hqep1OUGdN",
        "outputId": "0b41e22a-686c-426c-834c-c8608745b68d"
      },
      "execution_count": null,
      "outputs": [
        {
          "output_type": "stream",
          "name": "stdout",
          "text": [
            "3 4\n",
            "-3.0 -1.0\n"
          ]
        }
      ]
    },
    {
      "cell_type": "markdown",
      "metadata": {
        "id": "efml9GzISC9Q"
      },
      "source": [
        "# Задание 4"
      ]
    },
    {
      "cell_type": "markdown",
      "metadata": {
        "id": "SDZvKcsTVbAW"
      },
      "source": [
        "Постройте графики для функций из предыдущего задания и отметьте другим цветом на графиках точки найденных минимумов."
      ]
    },
    {
      "cell_type": "markdown",
      "source": [
        "### Решение:"
      ],
      "metadata": {
        "id": "CBXqXaQqUsk6"
      }
    },
    {
      "cell_type": "code",
      "source": [
        "from matplotlib import pyplot\n",
        "\n",
        "\n",
        "def f(x: float):\n",
        "    return (x + a) ** 2 - b\n",
        "\n",
        "\n",
        "def g(x: float):\n",
        "    return abs(f(x))\n",
        "\n",
        "\n",
        "def find_min_func():\n",
        "    f_x_min = -a\n",
        "    f_y_min = f(f_x_min)\n",
        "\n",
        "    if f_y_min >= 0:\n",
        "        g_x_min = f_x_min\n",
        "        return [f_x_min], [g_x_min]\n",
        "\n",
        "    else:\n",
        "        discriminant = 4 * a * a - 4 * (a * a - b)\n",
        "        # discriminant > 0\n",
        "        g_x1_min = (-2 * a + discriminant ** 0.5) / 2\n",
        "        g_x2_min = (-2 * a - discriminant ** 0.5) / 2\n",
        "        return [f_x_min], [g_x1_min, g_x2_min]\n",
        "\n",
        "\n",
        "def plot_func(func, min_list):\n",
        "    x = [i for i in range(-10, 20, 1)]\n",
        "    y = [func(i) for i in x]\n",
        "\n",
        "    pyplot.plot(x, y)\n",
        "    pyplot.ylabel(\"Y\")\n",
        "    pyplot.xlabel(\"X\")\n",
        "\n",
        "    for x in min_list:\n",
        "        pyplot.scatter(x, func(x), color='green')\n",
        "    pyplot.show()\n",
        "\n",
        "\n",
        "a, b = map(int, input().split())\n",
        "f_answer, g_answer = find_min_func()\n",
        "plot_func(f, f_answer)\n",
        "plot_func(g, g_answer)\n"
      ],
      "metadata": {
        "colab": {
          "base_uri": "https://localhost:8080/",
          "height": 564
        },
        "id": "I6aFH72lUvk6",
        "outputId": "e323a91b-73df-418b-931c-84dce627b578"
      },
      "execution_count": 1,
      "outputs": [
        {
          "name": "stdout",
          "output_type": "stream",
          "text": [
            "3 4\n"
          ]
        },
        {
          "output_type": "display_data",
          "data": {
            "text/plain": [
              "<Figure size 432x288 with 1 Axes>"
            ],
            "image/png": "[encoded data removed]"
          },
          "metadata": {
            "needs_background": "light"
          }
        },
        {
          "output_type": "display_data",
          "data": {
            "text/plain": [
              "<Figure size 432x288 with 1 Axes>"
            ],
            "image/png": "[encoded data removed]"
          },
          "metadata": {
            "needs_background": "light"
          }
        }
      ]
    },
    {
      "cell_type": "markdown",
      "metadata": {
        "id": "mrby3EfiSDKJ"
      },
      "source": [
        "# Задание 5"
      ]
    },
    {
      "cell_type": "markdown",
      "metadata": {
        "id": "J6AZ8785VkQd"
      },
      "source": [
        "1000 человек бросают монетку. Каждый бросил 10 раз подряд.\n",
        "\n",
        " 1. Какова вероятность того, что хотя бы у одного человека монетка выпала 10 раз подряд той же самой стороной (орлом или решкой)? \n",
        " 2. Какова вероятность того, что хотя бы у одного человека монетка выпала 8 раз подряд той же самой стороной (орлом или решкой)? \n",
        " 3. Какова вероятность того, что ровно у троих человек из 1000 монетка выпала 10 раз подряд той же самой стороной (орлом или решкой)?"
      ]
    },
    {
      "cell_type": "markdown",
      "source": [
        "### Решение"
      ],
      "metadata": {
        "id": "8HV_z7tTJ-fB"
      }
    },
    {
      "cell_type": "code",
      "source": [
        "import numpy\n",
        "\n",
        "\n",
        "def C(n, k):\n",
        "    return numpy.math.factorial(n) / (numpy.math.factorial(n - k) * numpy.math.factorial(k))\n",
        "\n",
        "\n",
        "def task_1():\n",
        "    p = 2 / 2 ** 10\n",
        "    q = 1 - p\n",
        "    answer = 0\n",
        "    for i in range(1, 1001):\n",
        "        answer += C(1000, i) * p ** i * q ** (1000 - i)\n",
        "    print(round(answer, 4))\n",
        "\n",
        "\n",
        "def task_2():\n",
        "    # Есть всего 5 случаев, когда из 10 бросков 8 подряд монета выпадет орлом и столько же решкой\n",
        "    p = 5 * 2 / 2 ** 10\n",
        "    q = 1 - p\n",
        "    answer = 0\n",
        "    for i in range(1, 1001):\n",
        "        answer += C(1000, i) * p ** i * q ** (1000 - i)\n",
        "    print(round(answer, 4))\n",
        "\n",
        "\n",
        "def task_3():\n",
        "    p = 2 / 2 ** 10\n",
        "    q = 1 - p\n",
        "    answer = C(1000, 3) * p ** 3 * q ** (1000 - 3)\n",
        "\n",
        "    print(round(answer, 4))\n",
        "\n",
        "\n",
        "task_1()\n",
        "task_2()\n",
        "task_3()\n"
      ],
      "metadata": {
        "colab": {
          "base_uri": "https://localhost:8080/"
        },
        "id": "gZxNZy6vJ-DR",
        "outputId": "a57caaf1-27c0-4db6-fa10-1173e6d603ae"
      },
      "execution_count": 2,
      "outputs": [
        {
          "output_type": "stream",
          "name": "stdout",
          "text": [
            "0.8584\n",
            "0.9999\n",
            "0.1763\n"
          ]
        }
      ]
    }
  ]
}